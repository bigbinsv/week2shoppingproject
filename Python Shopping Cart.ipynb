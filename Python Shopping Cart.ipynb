{
 "cells": [
  {
   "cell_type": "code",
   "execution_count": 1,
   "id": "ce93f0b0",
   "metadata": {},
   "outputs": [
    {
     "name": "stdout",
     "output_type": "stream",
     "text": [
      "5.99\n"
     ]
    }
   ],
   "source": [
    "# My Shopping Cart\n",
    "\n",
    "menu = { \n",
    "    \"Meat\": [\"roast_beef\", \"turkey\", \"salami\", \"ham\", \"chicken, tuna\"],\n",
    "    \"Cheese\":  [\"swiss\", \"cheddar\", \"havarti\", \"pepper_jack\", \"american\", \"cream_cheese\"],\n",
    "    \"Condiments\":  [\"mayonaise\", \"mustard\", \"ketchup\", \"relish\", \"ranch\", \"buffalo_sauce\"],\n",
    "    \"Veggies\":  [\"lettuce\", \"tomato\", \"pickel\", \"onions\", \"salt, pepper\"],\n",
    "    \"Breads\":  [\"wheat\", \"white\", \"rye\", \"sourdough\", \"potato\", \"hoagie_roll\"],\n",
    "}\n",
    "price = 0\n",
    "\n",
    "sandwich_meat = input('What kind of meat do you want? (roast beef, turkey, salami, ham, and tuna)')\n",
    "sandwich_cheese = input(\"What kind of cheese do you want? (swiss, cheddar, havarti, pepper jack, american, and cream cheese)\")\n",
    "sandwich_condiments = input(\"What condiments would you like on your sandwich? (mayonaise, mustard, ketchup, relish, ranch, or buffalo sauce)\")\n",
    "sandwich_veggies = input(\"What vegetables would you like today? (lettuce, tomato, pickel, onions, salt, and pepper)\")\n",
    "sandwich_breads = input(\"What type of bread would you like today? (wheat, white, rye, sourdough, potato or a hoagie roll)\")\n",
    "sandwich_size = input(\"Would you like a whole or a half sandwich? Enter 'whole' or 'half': \")\n",
    " \n",
    "if sandwich_size == \"whole\":    \n",
    "    print(9.99)\n",
    "elif sandwich_size == \"half\":\n",
    "    print(5.99)\n",
    "else:\n",
    "    print(\"Invalid input. Please specifiy 'whole' or 'half'.\")\n",
    "    \n",
    "if price > 0:\n",
    "    print(f\"The price of the {sandwich_size} sandwich is ${price:2f}.\")\n",
    "                                    \n",
    "                                    \n",
    "                                    \n",
    "                                    \n",
    "                                    \n",
    "                                    \n",
    "                                    \n",
    "                                    \n",
    "                                    \n",
    "                                    \n",
    "                                    \n",
    "                                    "
   ]
  },
  {
   "cell_type": "code",
   "execution_count": null,
   "id": "ebe7ed82",
   "metadata": {},
   "outputs": [],
   "source": []
  },
  {
   "cell_type": "code",
   "execution_count": null,
   "id": "d3d9f1b1",
   "metadata": {},
   "outputs": [],
   "source": []
  }
 ],
 "metadata": {
  "kernelspec": {
   "display_name": "Python 3",
   "language": "python",
   "name": "python3"
  },
  "language_info": {
   "codemirror_mode": {
    "name": "ipython",
    "version": 3
   },
   "file_extension": ".py",
   "mimetype": "text/x-python",
   "name": "python",
   "nbconvert_exporter": "python",
   "pygments_lexer": "ipython3",
   "version": "3.11.1"
  },
  "vscode": {
   "interpreter": {
    "hash": "dd3cabd110a80f8c7b0a51e83967d94ae2f74aa24e9591e633932207bc49d9a1"
   }
  }
 },
 "nbformat": 4,
 "nbformat_minor": 5
}
